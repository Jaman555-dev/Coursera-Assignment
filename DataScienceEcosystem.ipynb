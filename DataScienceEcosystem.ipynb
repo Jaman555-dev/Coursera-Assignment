{
 "cells": [
  {
   "cell_type": "markdown",
   "id": "890e25dd-636d-4580-9aff-88b3d9a34000",
   "metadata": {},
   "source": [
    "* Exercise2"
   ]
  },
  {
   "cell_type": "markdown",
   "id": "c9f3d47f-2eae-486e-9bbf-9eb6fc64280e",
   "metadata": {},
   "source": [
    "Notebook\n",
    "# Data Science Tools and Ecosystem"
   ]
  },
  {
   "cell_type": "markdown",
   "id": "544ea130-df66-4569-9d3c-3ec3a8e87c2a",
   "metadata": {},
   "source": [
    "* Exercise 3"
   ]
  },
  {
   "cell_type": "markdown",
   "id": "3a353a34-d851-41ee-aabf-c11ea23dc84a",
   "metadata": {
    "tags": []
   },
   "source": [
    "Jupyter Notebook is most usefull tool for Data Science"
   ]
  },
  {
   "cell_type": "markdown",
   "id": "e8e3e012-34b6-47e3-81ab-676355e05a5f",
   "metadata": {},
   "source": [
    "**Objectives:**\n",
    "This notebook's main objective is to practice different function that are discussed in the course Tools **for Data Science.**\n",
    "\n"
   ]
  },
  {
   "cell_type": "markdown",
   "id": "39e7aa3d-621f-41cb-81fb-f05ea818f47c",
   "metadata": {
    "tags": []
   },
   "source": [
    "Item covered in this notebook-\n",
    "* Notebook Creation\n",
    "* Ordered list creation\n",
    "* Unordered list creation\n",
    "* Use of code cell and markdown cell"
   ]
  },
  {
   "cell_type": "markdown",
   "id": "3e1ef1cf-7ed8-4248-9585-a2bb32b4f1ac",
   "metadata": {
    "tags": []
   },
   "source": [
    "* Exercise 4"
   ]
  },
  {
   "cell_type": "markdown",
   "id": "53ab9974-f284-4bbc-84d6-285cbd380541",
   "metadata": {},
   "source": [
    "Some of the popular languages that Data Scientists use are:\n",
    "   * 1.Python\n",
    "   * 2.R\n",
    "   * 3.C++\n",
    "   * 4.Java"
   ]
  },
  {
   "cell_type": "markdown",
   "id": "5adbc099-32fb-49b0-85d9-a5895cc575f0",
   "metadata": {
    "tags": []
   },
   "source": [
    "* Exercise 5"
   ]
  },
  {
   "cell_type": "markdown",
   "id": "f5582c9f-01ca-439e-8db0-4ef8484e8849",
   "metadata": {},
   "source": [
    "Some of the commonly used libraries used by Data Scientists include:\n",
    "* 1.NumPy\n",
    "* 2.SciPy\n",
    "* 3.Pandas\n",
    "* 4.Mtplolib"
   ]
  },
  {
   "cell_type": "markdown",
   "id": "5f5a07c9-1271-4a79-a125-af23f67678f5",
   "metadata": {},
   "source": [
    "* Exercise 6"
   ]
  },
  {
   "cell_type": "markdown",
   "id": "b3d25021-ba0e-4be4-8a2f-cb55eaf4deea",
   "metadata": {
    "tags": []
   },
   "source": [
    "Table\n",
    "|Data Science Tools|\n",
    "--------------------\n",
    "|RStudio|\n",
    "|Apache Spark|\n",
    "|TensorFlow|\n",
    "|Apache Hadoop|\n",
    "|RapidMiner|"
   ]
  },
  {
   "cell_type": "markdown",
   "id": "80d859b1-6dc7-4d8c-89de-9d604a9ef2b6",
   "metadata": {
    "tags": []
   },
   "source": [
    "* Exercise 7"
   ]
  },
  {
   "cell_type": "markdown",
   "id": "1141618f-e882-4316-8a30-5357f7cdf3cc",
   "metadata": {},
   "source": [
    "### Below are a few examples of evaluating arithmetic expressions in Python\n",
    "This a simple arithmetic expression to mutiply then add integers"
   ]
  },
  {
   "cell_type": "markdown",
   "id": "d94cb473-d304-4936-8117-e42d0d563fe2",
   "metadata": {
    "tags": []
   },
   "source": [
    "* Exercise 8"
   ]
  },
  {
   "cell_type": "code",
   "execution_count": 3,
   "id": "15fc7a29-9a2f-4d01-b0fb-d98a8cde4b6d",
   "metadata": {
    "tags": []
   },
   "outputs": [
    {
     "data": {
      "text/plain": [
       "17"
      ]
     },
     "execution_count": 3,
     "metadata": {},
     "output_type": "execute_result"
    }
   ],
   "source": [
    "(3*4)+5"
   ]
  },
  {
   "cell_type": "markdown",
   "id": "612781ed-3c5b-4236-b408-c792e8fba2de",
   "metadata": {},
   "source": [
    "* Exercise 9"
   ]
  },
  {
   "cell_type": "markdown",
   "id": "bc8916bd-01bf-44a3-ac2e-3ab3ce63bbd9",
   "metadata": {
    "tags": []
   },
   "source": [
    "This will convert 200 minutes to hours by diving by 60"
   ]
  },
  {
   "cell_type": "code",
   "execution_count": 10,
   "id": "98f2fa8d-b383-44e4-a80e-729b93b41475",
   "metadata": {
    "tags": []
   },
   "outputs": [
    {
     "data": {
      "text/plain": [
       "3.3333333333333335"
      ]
     },
     "execution_count": 10,
     "metadata": {},
     "output_type": "execute_result"
    }
   ],
   "source": [
    "200/60"
   ]
  },
  {
   "cell_type": "markdown",
   "id": "2c7ce3c8-e401-4342-b66e-0cfbf6077780",
   "metadata": {
    "tags": []
   },
   "source": [
    "* Exercise 10"
   ]
  },
  {
   "cell_type": "markdown",
   "id": "678f4a36-a61e-45d1-aad0-d0092182ad63",
   "metadata": {},
   "source": [
    "## Author\n",
    "Nurujjaman Sk"
   ]
  },
  {
   "cell_type": "code",
   "execution_count": null,
   "id": "e52d77b3-cee9-4967-b437-80d3f0bf3e8a",
   "metadata": {},
   "outputs": [],
   "source": []
  }
 ],
 "metadata": {
  "kernelspec": {
   "display_name": "Python 3 (ipykernel)",
   "language": "python",
   "name": "python3"
  },
  "language_info": {
   "codemirror_mode": {
    "name": "ipython",
    "version": 3
   },
   "file_extension": ".py",
   "mimetype": "text/x-python",
   "name": "python",
   "nbconvert_exporter": "python",
   "pygments_lexer": "ipython3",
   "version": "3.11.5"
  }
 },
 "nbformat": 4,
 "nbformat_minor": 5
}
